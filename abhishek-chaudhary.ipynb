# Abhishek Chaudhary (TheAbbie) Height, Weight, Age, Girlfriend, Family, Biography & More
<p><i>Abhishek Chaudhary A.K.A TheAbbie born in 2002 is a computer engineer from Fr. Conceicao Rodrigues institute of technology, and he made he acting and writing debut in 2019 short film Brazen Epiphany, The film was made as a part of India Film project 50 hour filmmaking challenge. He is currently writing for TVF sketches. He also currently makes YouTube videos. Apart from acting and writing, his main fields of interests include programming and photography and podcasting</i></p>
<figure>
<img src="https://theabbie.github.io/blog/assets/abhishek-chaudhary.jpg" alt="abhishek chaudhary">
<figcaption>abhishek chaudhary</figcaption>
</figure>
<table>
<caption>Abhishek Chaudhary</caption>
<thead>
<tr>
<th colspan="2">Quick Info</th>
</tr>
</thead>
<tbody>
<tr><th scope='row'>Hometown</th><td>Navi Mumbai</td></tr>
<tr><th scope='row'>Nickname</th><td>TheAbbie</td></tr>
<tr><th scope='row'>Famous For</th><td>Brazen Epiphany</td></tr>
<tr><th scope='row'>Age</th><td>18 years</td></tr>
<tr><th scope='row'>College</th><td>Fr conceicao Rodrigues institute of technology</td></tr>
<tr><th scope='row'>Girlfriend</th><td>Single</td></tr>
<tr><th scope='row'>Body Measurements</th><td>Chest:38, Waist:30, Biceps:12</td></tr>
<tr><th scope='row'>Date of Birth</th><td>11/01/2002</td></tr>
</tbody>
</table>
<nav aria-label="contents">
<ul>
<li><a href="#Bio">Bio</a>
<ul>
<li><a href="#Real_Name">Real Name</a></li>
<li><a href="#Nickname">Nickname</a></li>
<li><a href="#profession">profession</a></li>
<li><a href="#famous_for">famous for</a></li>
</ul>
</li>
<li><a href="#Physical_Stats_More">Physical Stats &amp; More</a>
<ul>
<li><a href="#Height">Height</a>
<ul>
<li><a href="#In_centimetres">In centimetres</a></li>
<li><a href="#In_metres">In metres</a></li>
<li><a href="#In_Feet_Inches">In Feet-Inches</a></li>
</ul>
</li>
<li><a href="#Weight">Weight</a>
<ul>
<li><a href="#In_Kilograms">In Kilograms</a></li>
<li><a href="#In_Pounds">In Pounds</a></li>
</ul>
</li>
<li><a href="#Body_measurements">Body measurements</a>
<ul>
<li><a href="#Chest">Chest</a></li>
<li><a href="#waist">waist</a></li>
<li><a href="#biceps">biceps</a></li>
</ul>
</li>
<li><a href="#eye_color">eye color</a></li>
<li><a href="#hair_color">hair color</a></li>
</ul>
</li>
<li><a href="#personal_life">personal life</a>
<ul>
<li><a href="#date_of_birth">date of birth</a>
<ul>
<li><a href="#Day">Day</a></li>
<li><a href="#month">month</a></li>
<li><a href="#year">year</a></li>
</ul>
</li>
<li><a href="#address">address</a>
<ul>
<li><a href="#house_number">house number</a></li>
<li><a href="#street">street</a></li>
<li><a href="#Town">Town</a></li>
<li><a href="#City">City</a></li>
<li><a href="#State">State</a></li>
<li><a href="#country">country</a></li>
</ul>
</li>
<li><a href="#Age">Age</a></li>
<li><a href="#birthplace">birthplace</a>
<ul>
<li><a href="#bCity">City</a></li>
<li><a href="#bState">State</a></li>
<li><a href="#bcountry">country</a></li>
</ul>
</li>
<li><a href="#zodiac_sign">zodiac sign</a></li>
<li><a href="#nationality">nationality</a></li>
<li><a href="#hometown">hometown</a>
<ul>
<li><a href="#hCity">City</a></li>
<li><a href="#hState">State</a></li>
<li><a href="#hcountry">country</a></li>
</ul>
</li>
<li><a href="#college">college</a></li>
<li><a href="#Educational_qualifications">Educational qualifications</a>
<ul>
<li><a href="#Degree">Degree</a></li>
<li><a href="#Field">Field</a></li>
<li><a href="#Debut">Debut</a></li>
</ul>
</li>
<li><a href="#Family">Family</a>
<ul>
<li><a href="#Father">Father</a></li>
<li><a href="#mother">mother</a></li>
<li><a href="#brother">brother</a></li>
</ul>
</li>
<li><a href="#religion">religion</a></li>
<li><a href="#Food_Habit">Food Habit</a></li>
<li><a href="#hobbies">hobbies</a></li>
</ul>
</li>
<li><a href="#Favorite_things">Favorite things</a>
<ul>
<li><a href="#favorite_movie">favorite movie</a></li>
<li><a href="#favorite_actors">favorite actors</a></li>
<li><a href="#favorite_singers">favorite singers</a></li>
<li><a href="#favorite_actress">favorite actress</a></li>
<li><a href="#favorite_directors">favorite directors</a></li>
</ul>
</li>
<li><a href="#Girls_Affairs_more">Girls, Affairs &amp; more</a>
<ul>
<li><a href="#Marital_status">Marital status</a></li>
<li><a href="#Affairs_Girlfriends">Affairs/Girlfriends</a></li>
<li><a href="#Wife_Spouse">Wife/Spouse</a></li>
</ul>
</li>
<li><a href="#Biography">Biography</a></li>
<li><a href="#social_profiles">social profiles</a></li>
</ul>
</nav>
<section>
<h2 id="Bio" class="heading">Bio</h2>
<section>
<h3 id="Real_Name" class="heading">Real Name</h3>
<p>Abhishek Chaudhary</p>
</section>
<section>
<h3 id="Nickname" class="heading">Nickname</h3>
<p>TheAbbie</p>
</section>
<section>
<h3 id="profession" class="heading">profession</h3>
<ul>
<li>Web Developer</li>
<li>Filmmaker</li>
<li>Podcaster</li>
</ul>
</section>
<section>
<h3 id="famous_for" class="heading">famous for</h3>
<ul>
<li><a href="https://imdb.com/title/tt11788384/" title="Brazen Epiphany">Brazen Epiphany (2019)</a></li>
<li><a href="/theabbie-podcasts" title="TheAbbie Podcasts">TheAbbie Podcasts</a></li>
</ul>
</section>           
</section>
<section>
<h2 id="Physical_Stats_More" class="heading">Physical Stats & More</h2>
<section>
<h3 id="Height" class="heading">Height</h3>
<section>
<h4 id="In_centimetres" class="heading">In centimetres</h4>
<p>175 cm</p>   
</section>
 <section>
<h4 id="In_metres" class="heading">In metres</h4>
<p>1.75 m</p>
</section>
<section>
<h4 id="In_Feet_Inches" class="heading">In Feet-Inches</h4>
<p>5'9''</p>
</section>   
</section>
<section>
<h3 id="Weight" class="heading">Weight</h3>
<section>
<h4 id="In_Kilograms" class="heading">In Kilograms</h4>
<p>50 kg</p>
</section>
<section>
<h4 id="In_Pounds" class="heading">In Pounds</h4>
<p>110.2 lbs</p>
</section>   
</section>
<section>
<h3 id="Body_measurements" class="heading">Body measurements</h3>
<section>
<h4 id="Chest" class="heading">Chest</h4>
<p>38 inches</p>
</section>
<section>
<h4 id="waist" class="heading">waist</h4>
<p>30 inches</p>
</section>
<section>
<h4 id="biceps" class="heading">biceps</h4>
<p>12 inches</p>
</section>       
</section>
<section>
<h3 id="eye_color" class="heading">eye color</h3>
<p>black</p>
</section>
<section>
<h3 id="hair_color" class="heading">hair color</h3>
<p>black</p>
</section>             
</section>
<section>
<h2 id="personal_life" class="heading">personal life</h2>
<section>
<h3 id="date_of_birth" class="heading">date of birth</h3>
<section>
<h4 id="Day" class="heading">Day</h4>
<p>11</p>
</section>
<section>
<h4 id="month" class="heading">month</h4>
<p>January</p>
</section>
<section>
<h4 id="year" class="heading">year</h4>
<p>2002</p>
</section>        
</section>
 <section>
<h3 id="address" class="heading">address</h3>
<section>
<h4 id="house_number" class="heading">house number</h4>
<p>11/6</p>
</section>
 <section>
<h4 id="street" class="heading">street</h4>
<p>Artist village</p>
</section>
<section>
<h4 id="Town" class="heading">Town</h4>
<p>CBD Belapur</p>
</section>
 <section>
<h4 id="City" class="heading">City</h4>
<p>Navi Mumbai</p>
</section>
<section>
<h4 id="State" class="heading">State</h4>
<p>Maharashtra</p>
</section>
<section>
<h4 id="country" class="heading">country</h4>
<p>India</p>
</section>           
</section>
<section>
<h3 id="Age" class="heading">Age</h3>
<p>18 years</p>
</section>
<section>
<h3 id="birthplace" class="heading">birthplace</h3>
<section>
<h4 id="bCity" class="heading">City</h4>
<p>Navi Mumbai</p>
</section>
<section>
<h4 id="bState" class="heading">State</h4>
<p>Maharashtra</p>
</section>
<section>
<h4 id="bcountry" class="heading">country</h4>
<p>India</p>
</section>
</section>
 <section>
<h3 id="zodiac_sign" class="heading">zodiac sign</h3>
<p>Capricorn</p>
</section>
 <section>
<h3 id="nationality" class="heading">nationality</h3>
<p>Indian</p>
</section>
<section>
<h3 id="hometown" class="heading">hometown</h3>
<section>
<h4 id="hCity" class="heading">City</h4>
<p>Navi Mumbai</p>
</section>
<section>
<h4 id="hState" class="heading">State</h4>
<p>Maharashtra</p>
</section>
<section>
<h4 id="hcountry" class="heading">country</h4>
<p>India</p>
</section>
</section>
<section>
<h3 id="college" class="heading">college</h3>
<p><a href="https://fcrit.ac.in" title="Fr Conceicao Rodrigues institute of technology">Fr Conceicao Rodrigues institute of technology</a></p>
<figure>
<img src="https://theabbie.github.io/blog/assets/fr-Conceicao-Rodrigues-institute-of-technology.jpg" alt="fr Conceicao Rodrigues institute of technology">
<figcaption>fr Conceicao Rodrigues institute of technology</figcaption>
</figure>
</section>
 <section>
<h3 id="Educational_qualifications" class="heading">Educational qualifications</h3>
<section>
<h4 id="Degree" class="heading">Degree</h4>
<p>B.E.</p>
</section>
 <section>
<h4 id="Field" class="heading">Field</h4>
<p>computer engineering</p>
</section>
<section>
<h4 id="Debut" class="heading">Debut</h4>
<p><a href="https://imdb.com/title/tt11788384/" title="Brazen Epiphany (2019)">Brazen Epiphany (2019)</a></p>
 <figure>
<img src="https://theabbie.github.io/blog/assets/Brazen-Epiphany.jpg" alt="Brazen Epiphany">
<figcaption>Brazen Epiphany</figcaption>
</figure>
</section>       
</section>
 <section>
<h3 id="Family" class="heading">Family</h3>
<section>
<h4 id="Father" class="heading">Father</h4>
<p>Santosh Choudhary</p>
</section>
 <section>
<h4 id="mother" class="heading">mother</h4>
<p>Ruby Choudhary</p>
</section>
<section>
<h4 id="brother" class="heading">brother</h4>
<p>Yogesh Choudhary</p>
</section>          
</section>
<section>
<h3 id="religion" class="heading">religion</h3>
<p>Hinduism</p>
</section>
 <section>
<h3 id="Food_Habit" class="heading">Food Habit</h3>
<p>non-vegetarian</p>
</section>
 <section>
<h3 id="hobbies" class="heading">hobbies</h3>
<ul>
<li>Reading</li>
<li>Watching movies</li>
<li>Listening music</li>
<li>Programming</li>
</ul>
</section>                                            
</section>
<section>
<h2 id="Favorite_things" class="heading">Favorite things</h2>
<section>
<h3 id="favorite_movie" class="heading">favorite movie</h3>
<p>Andhadhun</p>
</section>
<section>
<h3 id="favorite_actors" class="heading">favorite actors</h3>
<ul>
<li>Irrfan khan</li>
<li>Aamir Khan</li>
</ul>
</section>
<section>
<h3 id="favorite_singers" class="heading">favorite singers</h3>
<ul>
<li>Sonu Nigam</li>
<li>Mohit Chauhan</li>
<li>Arijit singh</li>
</ul>
</section>
<section>
<h3 id="favorite_actress" class="heading">favorite actress</h3>
<p>shraddha Kapoor</p>
</section>
<section>
<h3 id="favorite_directors" class="heading">favorite directors</h3>
<ul>
<li>Anand Gandhi</li>
<li>Rajkumar Hirani</li>
</ul>
</section>                      
</section>
<section>
<h2 id="Girls_Affairs_more" class="heading">Girls, Affairs & more</h2>
<section>
<h3 id="Marital_status" class="heading">Marital status</h3>
<p>unmarried</p>
</section>
<section>
<h3 id="Affairs_Girlfriends" class="heading">Affairs/Girlfriends</h3>
<p>single</p> 
</section>
<section>
<h3 id="Wife_Spouse" class="heading">Wife/Spouse</h3>
<p>N/A</p>
</section>           
</section>
<section>
<h2 id="Biography" class="heading">Biography</h2>
<p>Abhishek Chaudhary A.K.A TheAbbie born in 2002 is a computer engineer from Fr. Conceicao Rodrigues institute of technology, and he made he acting and writing debut in 2019 short film Brazen Epiphany, The film was made as a part of India Film project 50 hour filmmaking challenge. He is currently writing for TVF sketches. He also currently makes YouTube videos. Apart from acting and writing, his main fields of interests include programming and photography and podcasting</p>
</section>
 <section>
<h2 id="social_profiles" class="heading">social profiles</h2>
<ul>
<li><a href="https://facebook.com/abhishek.vice.versa" title="Facebook">Facebook</a></li>
<li><a href="https://www.instagram.com/sasta_abbie" title="Instagram">Instagram</a></li>
<li><a href="https://in.linkedin.com/in/theabbie" title="LinkedIn">LinkedIn</a></li>
<li><a href="https://twitter.com/theabbiee" title="Twitter">Twitter</a></li>
<li><a href="https://imdb.com/name/nm11351503/" title="IMDB">IMDB</a></li>
<li><a href="https://www.cinestaan.com/people/abhishek-chaudhary-157241" title="Cinestaan">Cinestaan</a></li>
<li><a href="https://www.ccelebs.com/people/443053/abhishek-chaudhary" title="Ccelebs">Ccelebs</a></li>
<li><a href="https://starsreborn.com/abhishek-chaudhary-age-height-girlfriend-family-biography/" title="Starsreborn">Starsreborn</a></li>
<li><a href="https://www.filmifeed.com/celebrity/abhishek-chaudhary/" title="FilmiFeed">FilmiFeed</a></li>
<li><a href="https://medium.com/@theabbie/abhishek-chaudhary-theabbie-e5131eeee846" title="Medium">Medium</a></li>
</ul>
</section>                       
